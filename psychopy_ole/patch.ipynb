{
 "cells": [
  {
   "cell_type": "code",
   "execution_count": 2,
   "metadata": {},
   "outputs": [],
   "source": [
    "from unittest.mock import patch\n",
    "import requests"
   ]
  },
  {
   "cell_type": "code",
   "execution_count": 6,
   "metadata": {},
   "outputs": [],
   "source": [
    "def get_weather(city):\n",
    "    response = requests.get(f\"http://some_url_for_weather/{city}\")\n",
    "    return response.json().get(\"weather\", \"No data\")"
   ]
  },
  {
   "cell_type": "code",
   "execution_count": 8,
   "metadata": {},
   "outputs": [],
   "source": [
    "with patch('requests.get') as mock_get:\n",
    "    mock_get.return_value.json.return_value = {\"weather\": \"sunny\"}\n",
    "    result = get_weather(\"Bonn\")\n",
    "    mock_get.assert_called_once_with(\"http://some_url_for_weather/Bonn\")"
   ]
  }
 ],
 "metadata": {
  "kernelspec": {
   "display_name": "psychopy",
   "language": "python",
   "name": "python3"
  },
  "language_info": {
   "codemirror_mode": {
    "name": "ipython",
    "version": 3
   },
   "file_extension": ".py",
   "mimetype": "text/x-python",
   "name": "python",
   "nbconvert_exporter": "python",
   "pygments_lexer": "ipython3",
   "version": "3.9.20"
  }
 },
 "nbformat": 4,
 "nbformat_minor": 2
}
